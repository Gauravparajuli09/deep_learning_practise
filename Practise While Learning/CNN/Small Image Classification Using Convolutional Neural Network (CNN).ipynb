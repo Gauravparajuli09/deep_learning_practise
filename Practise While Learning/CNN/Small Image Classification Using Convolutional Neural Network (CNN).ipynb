{
 "cells": [
  {
   "cell_type": "code",
   "execution_count": 8,
   "id": "38e79167",
   "metadata": {},
   "outputs": [],
   "source": [
    "import pandas as pd \n",
    "import numpy as np\n",
    "import matplotlib.pyplot as plt\n",
    "%matplotlib inline\n",
    "import tensorflow as tf\n",
    "from tensorflow.keras import datasets, models, layers"
   ]
  },
  {
   "cell_type": "code",
   "execution_count": 9,
   "id": "79d25144",
   "metadata": {},
   "outputs": [
    {
     "data": {
      "text/plain": [
       "[PhysicalDevice(name='/physical_device:GPU:0', device_type='GPU')]"
      ]
     },
     "execution_count": 9,
     "metadata": {},
     "output_type": "execute_result"
    }
   ],
   "source": [
    "tf.config.list_physical_devices('GPU')"
   ]
  },
  {
   "cell_type": "code",
   "execution_count": 10,
   "id": "e4048329",
   "metadata": {},
   "outputs": [
    {
     "name": "stdout",
     "output_type": "stream",
     "text": [
      "2.3.0\n"
     ]
    }
   ],
   "source": [
    "print(tf. __version__)"
   ]
  },
  {
   "cell_type": "code",
   "execution_count": 11,
   "id": "ee6650bc",
   "metadata": {},
   "outputs": [
    {
     "name": "stdout",
     "output_type": "stream",
     "text": [
      "Num GPU Available:  1\n"
     ]
    }
   ],
   "source": [
    "print(\"Num GPU Available: \", len(tf.config.experimental.list_physical_devices('GPU')))"
   ]
  },
  {
   "cell_type": "code",
   "execution_count": 12,
   "id": "b83e923c",
   "metadata": {},
   "outputs": [],
   "source": [
    "(X_train, y_train), (X_test,y_test) = datasets.cifar10.load_data()"
   ]
  },
  {
   "cell_type": "code",
   "execution_count": 13,
   "id": "01b28ae3",
   "metadata": {},
   "outputs": [
    {
     "data": {
      "text/plain": [
       "(50000, 32, 32, 3)"
      ]
     },
     "execution_count": 13,
     "metadata": {},
     "output_type": "execute_result"
    }
   ],
   "source": [
    "X_train.shape"
   ]
  },
  {
   "cell_type": "code",
   "execution_count": 14,
   "id": "b9fc8d75",
   "metadata": {},
   "outputs": [
    {
     "data": {
      "text/plain": [
       "<matplotlib.image.AxesImage at 0x27ce1532f10>"
      ]
     },
     "execution_count": 14,
     "metadata": {},
     "output_type": "execute_result"
    },
    {
     "data": {
      "image/png": "[encoded data removed]",
      "text/plain": [
       "<Figure size 200x200 with 1 Axes>"
      ]
     },
     "metadata": {},
     "output_type": "display_data"
    }
   ],
   "source": [
    "plt.figure(figsize=(2,2))\n",
    "plt.imshow(X_train[0])"
   ]
  },
  {
   "cell_type": "code",
   "execution_count": 15,
   "id": "c3751dbf",
   "metadata": {},
   "outputs": [
    {
     "data": {
      "text/plain": [
       "array([[6],\n",
       "       [9],\n",
       "       [9],\n",
       "       [4],\n",
       "       [1]], dtype=uint8)"
      ]
     },
     "execution_count": 15,
     "metadata": {},
     "output_type": "execute_result"
    }
   ],
   "source": [
    "y_train[:5]"
   ]
  },
  {
   "cell_type": "code",
   "execution_count": 16,
   "id": "c37322a5",
   "metadata": {},
   "outputs": [
    {
     "data": {
      "text/plain": [
       "array([6, 9, 9, 4, 1], dtype=uint8)"
      ]
     },
     "execution_count": 16,
     "metadata": {},
     "output_type": "execute_result"
    }
   ],
   "source": [
    "y_train = y_train.reshape(-1,)\n",
    "y_train[:5]"
   ]
  },
  {
   "cell_type": "code",
   "execution_count": 17,
   "id": "a0cd0665",
   "metadata": {},
   "outputs": [
    {
     "data": {
      "text/plain": [
       "array([3, 8, 8, 0, 6], dtype=uint8)"
      ]
     },
     "execution_count": 17,
     "metadata": {},
     "output_type": "execute_result"
    }
   ],
   "source": [
    "y_test = y_test.reshape(-1,)\n",
    "y_test[:5]"
   ]
  },
  {
   "cell_type": "code",
   "execution_count": 18,
   "id": "b5d95a80",
   "metadata": {},
   "outputs": [],
   "source": [
    "classes = [\"airplane\",\"automobile\",\"bird\",\"cat\",\"deer\",\"dog\",\"frog\",\"horse\",\"ship\",\"truck\"]"
   ]
  },
  {
   "cell_type": "markdown",
   "id": "2e32f609",
   "metadata": {},
   "source": [
    "Lets plot some of the images using a fuction"
   ]
  },
  {
   "cell_type": "code",
   "execution_count": 19,
   "id": "5c4e8590",
   "metadata": {},
   "outputs": [],
   "source": [
    "def plot_sample(X, y, index):\n",
    "    plt.figure(figsize = (15,2))\n",
    "    plt.imshow(X[index])\n",
    "    plt.xlabel(classes[y[index]])"
   ]
  },
  {
   "cell_type": "code",
   "execution_count": 20,
   "id": "d3a94e62",
   "metadata": {},
   "outputs": [
    {
     "data": {
      "image/png": "[encoded data removed]",
      "text/plain": [
       "<Figure size 1500x200 with 1 Axes>"
      ]
     },
     "metadata": {},
     "output_type": "display_data"
    }
   ],
   "source": [
    "plot_sample(X_train,y_train,0)"
   ]
  },
  {
   "cell_type": "markdown",
   "id": "1b7e95a2",
   "metadata": {},
   "source": [
    "Normalizing the training data"
   ]
  },
  {
   "cell_type": "code",
   "execution_count": 21,
   "id": "87dca6e3",
   "metadata": {},
   "outputs": [],
   "source": [
    "X_train = X_train/255\n",
    "X_test = X_test/255"
   ]
  },
  {
   "cell_type": "code",
   "execution_count": 22,
   "id": "a65c6fd4",
   "metadata": {},
   "outputs": [
    {
     "data": {
      "text/plain": [
       "array([[[0.92156863, 0.92156863, 0.92156863],\n",
       "        [0.90588235, 0.90588235, 0.90588235],\n",
       "        [0.90980392, 0.90980392, 0.90980392],\n",
       "        ...,\n",
       "        [0.91372549, 0.91372549, 0.91372549],\n",
       "        [0.91372549, 0.91372549, 0.91372549],\n",
       "        [0.90980392, 0.90980392, 0.90980392]],\n",
       "\n",
       "       [[0.93333333, 0.93333333, 0.93333333],\n",
       "        [0.92156863, 0.92156863, 0.92156863],\n",
       "        [0.92156863, 0.92156863, 0.92156863],\n",
       "        ...,\n",
       "        [0.9254902 , 0.9254902 , 0.9254902 ],\n",
       "        [0.9254902 , 0.9254902 , 0.9254902 ],\n",
       "        [0.92156863, 0.92156863, 0.92156863]],\n",
       "\n",
       "       [[0.92941176, 0.92941176, 0.92941176],\n",
       "        [0.91764706, 0.91764706, 0.91764706],\n",
       "        [0.91764706, 0.91764706, 0.91764706],\n",
       "        ...,\n",
       "        [0.92156863, 0.92156863, 0.92156863],\n",
       "        [0.92156863, 0.92156863, 0.92156863],\n",
       "        [0.91764706, 0.91764706, 0.91764706]],\n",
       "\n",
       "       ...,\n",
       "\n",
       "       [[0.34117647, 0.38823529, 0.34901961],\n",
       "        [0.16862745, 0.2       , 0.14509804],\n",
       "        [0.0745098 , 0.09019608, 0.04313725],\n",
       "        ...,\n",
       "        [0.6627451 , 0.72156863, 0.70196078],\n",
       "        [0.71372549, 0.77254902, 0.75686275],\n",
       "        [0.7372549 , 0.79215686, 0.78823529]],\n",
       "\n",
       "       [[0.32156863, 0.37647059, 0.32156863],\n",
       "        [0.18039216, 0.22352941, 0.14117647],\n",
       "        [0.14117647, 0.17254902, 0.08627451],\n",
       "        ...,\n",
       "        [0.68235294, 0.74117647, 0.71764706],\n",
       "        [0.7254902 , 0.78431373, 0.76862745],\n",
       "        [0.73333333, 0.79215686, 0.78431373]],\n",
       "\n",
       "       [[0.33333333, 0.39607843, 0.3254902 ],\n",
       "        [0.24313725, 0.29411765, 0.18823529],\n",
       "        [0.22745098, 0.2627451 , 0.14901961],\n",
       "        ...,\n",
       "        [0.65882353, 0.71764706, 0.69803922],\n",
       "        [0.70588235, 0.76470588, 0.74901961],\n",
       "        [0.72941176, 0.78431373, 0.78039216]]])"
      ]
     },
     "execution_count": 22,
     "metadata": {},
     "output_type": "execute_result"
    }
   ],
   "source": [
    "X_test[1]"
   ]
  },
  {
   "cell_type": "markdown",
   "id": "c7c9e683",
   "metadata": {},
   "source": [
    "### Now Lets build convolutional neural network"
   ]
  },
  {
   "cell_type": "code",
   "execution_count": 23,
   "id": "b85667c8",
   "metadata": {},
   "outputs": [],
   "source": [
    "cnn = models.Sequential([\n",
    "    layers.Conv2D(filters=30, kernel_size=(3, 3), activation='relu', input_shape=(32, 32, 3)),\n",
    "    layers.MaxPooling2D((2, 2)),\n",
    "    \n",
    "    layers.Conv2D(filters=20, kernel_size=(3, 3), activation='relu'),\n",
    "    layers.MaxPooling2D((2, 2)),\n",
    "    \n",
    "    layers.Flatten(),\n",
    "    layers.Dense(64, activation='relu'),\n",
    "    layers.Dense(10, activation='softmax')\n",
    "])"
   ]
  },
  {
   "cell_type": "code",
   "execution_count": 24,
   "id": "9e8ae7aa",
   "metadata": {},
   "outputs": [],
   "source": [
    "cnn.compile(optimizer='adam', loss='sparse_categorical_crossentropy', metrics=['accuracy'])"
   ]
  },
  {
   "cell_type": "code",
   "execution_count": 26,
   "id": "19196754",
   "metadata": {},
   "outputs": [
    {
     "name": "stdout",
     "output_type": "stream",
     "text": [
      "Epoch 1/30\n",
      "1563/1563 [==============================] - 4s 3ms/step - loss: 0.9125 - accuracy: 0.6821\n",
      "Epoch 2/30\n",
      "1563/1563 [==============================] - 4s 2ms/step - loss: 0.8724 - accuracy: 0.6948\n",
      "Epoch 3/30\n",
      "1563/1563 [==============================] - 4s 3ms/step - loss: 0.8397 - accuracy: 0.7060\n",
      "Epoch 4/30\n",
      "1563/1563 [==============================] - 4s 3ms/step - loss: 0.8119 - accuracy: 0.7167\n",
      "Epoch 5/30\n",
      "1563/1563 [==============================] - 4s 3ms/step - loss: 0.7838 - accuracy: 0.7265\n",
      "Epoch 6/30\n",
      "1563/1563 [==============================] - 4s 3ms/step - loss: 0.7617 - accuracy: 0.7330\n",
      "Epoch 7/30\n",
      "1563/1563 [==============================] - 4s 3ms/step - loss: 0.7364 - accuracy: 0.7445\n",
      "Epoch 8/30\n",
      "1563/1563 [==============================] - 4s 3ms/step - loss: 0.7153 - accuracy: 0.7503\n",
      "Epoch 9/30\n",
      "1563/1563 [==============================] - 4s 2ms/step - loss: 0.6962 - accuracy: 0.7522\n",
      "Epoch 10/30\n",
      "1563/1563 [==============================] - 4s 2ms/step - loss: 0.6754 - accuracy: 0.7600\n",
      "Epoch 11/30\n",
      "1563/1563 [==============================] - 4s 2ms/step - loss: 0.6551 - accuracy: 0.7692\n",
      "Epoch 12/30\n",
      "1563/1563 [==============================] - 4s 2ms/step - loss: 0.6414 - accuracy: 0.7752\n",
      "Epoch 13/30\n",
      "1563/1563 [==============================] - 4s 2ms/step - loss: 0.6237 - accuracy: 0.7797\n",
      "Epoch 14/30\n",
      "1563/1563 [==============================] - 4s 2ms/step - loss: 0.6052 - accuracy: 0.7861\n",
      "Epoch 15/30\n",
      "1563/1563 [==============================] - 4s 2ms/step - loss: 0.5921 - accuracy: 0.7902\n",
      "Epoch 16/30\n",
      "1563/1563 [==============================] - 4s 2ms/step - loss: 0.5745 - accuracy: 0.7967\n",
      "Epoch 17/30\n",
      "1563/1563 [==============================] - 4s 2ms/step - loss: 0.5630 - accuracy: 0.8001\n",
      "Epoch 18/30\n",
      "1563/1563 [==============================] - 4s 2ms/step - loss: 0.5503 - accuracy: 0.8048\n",
      "Epoch 19/30\n",
      "1563/1563 [==============================] - 4s 2ms/step - loss: 0.5396 - accuracy: 0.8064\n",
      "Epoch 20/30\n",
      "1563/1563 [==============================] - 4s 2ms/step - loss: 0.5293 - accuracy: 0.8115\n",
      "Epoch 21/30\n",
      "1563/1563 [==============================] - 4s 2ms/step - loss: 0.5166 - accuracy: 0.8164\n",
      "Epoch 22/30\n",
      "1563/1563 [==============================] - 4s 2ms/step - loss: 0.5081 - accuracy: 0.8184\n",
      "Epoch 23/30\n",
      "1563/1563 [==============================] - 4s 2ms/step - loss: 0.4959 - accuracy: 0.8215\n",
      "Epoch 24/30\n",
      "1563/1563 [==============================] - 4s 2ms/step - loss: 0.4866 - accuracy: 0.8267\n",
      "Epoch 25/30\n",
      "1563/1563 [==============================] - 4s 2ms/step - loss: 0.4814 - accuracy: 0.8275\n",
      "Epoch 26/30\n",
      "1563/1563 [==============================] - 4s 2ms/step - loss: 0.4725 - accuracy: 0.8317\n",
      "Epoch 27/30\n",
      "1563/1563 [==============================] - 4s 3ms/step - loss: 0.4611 - accuracy: 0.8352\n",
      "Epoch 28/30\n",
      "1563/1563 [==============================] - 4s 2ms/step - loss: 0.4523 - accuracy: 0.8376\n",
      "Epoch 29/30\n",
      "1563/1563 [==============================] - 4s 2ms/step - loss: 0.4400 - accuracy: 0.8428\n",
      "Epoch 30/30\n",
      "1563/1563 [==============================] - 4s 2ms/step - loss: 0.4407 - accuracy: 0.8415\n"
     ]
    },
    {
     "data": {
      "text/plain": [
       "<tensorflow.python.keras.callbacks.History at 0x27d42724a90>"
      ]
     },
     "execution_count": 26,
     "metadata": {},
     "output_type": "execute_result"
    }
   ],
   "source": [
    "cnn.fit(X_train,y_train,epochs=30)"
   ]
  },
  {
   "cell_type": "code",
   "execution_count": null,
   "id": "661a0592",
   "metadata": {},
   "outputs": [],
   "source": []
  }
 ],
 "metadata": {
  "kernelspec": {
   "display_name": "Python 3 (ipykernel)",
   "language": "python",
   "name": "python3"
  },
  "language_info": {
   "codemirror_mode": {
    "name": "ipython",
    "version": 3
   },
   "file_extension": ".py",
   "mimetype": "text/x-python",
   "name": "python",
   "nbconvert_exporter": "python",
   "pygments_lexer": "ipython3",
   "version": "3.8.13"
  },
  "varInspector": {
   "cols": {
    "lenName": 16,
    "lenType": 16,
    "lenVar": 40
   },
   "kernels_config": {
    "python": {
     "delete_cmd_postfix": "",
     "delete_cmd_prefix": "del ",
     "library": "var_list.py",
     "varRefreshCmd": "print(var_dic_list())"
    },
    "r": {
     "delete_cmd_postfix": ") ",
     "delete_cmd_prefix": "rm(",
     "library": "var_list.r",
     "varRefreshCmd": "cat(var_dic_list()) "
    }
   },
   "types_to_exclude": [
    "module",
    "function",
    "builtin_function_or_method",
    "instance",
    "_Feature"
   ],
   "window_display": false
  }
 },
 "nbformat": 4,
 "nbformat_minor": 5
}
