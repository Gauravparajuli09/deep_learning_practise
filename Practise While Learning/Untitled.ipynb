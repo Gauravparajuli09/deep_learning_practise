{
 "cells": [
  {
   "cell_type": "code",
   "execution_count": 1,
   "id": "997bfb5a",
   "metadata": {},
   "outputs": [
    {
     "name": "stdout",
     "output_type": "stream",
     "text": [
      "(60000, 28, 28)\n",
      "(10000, 28, 28)\n",
      "Model: \"sequential\"\n",
      "_________________________________________________________________\n",
      "Layer (type)                 Output Shape              Param #   \n",
      "=================================================================\n",
      "flatten (Flatten)            (None, 784)               0         \n",
      "_________________________________________________________________\n",
      "dense (Dense)                (None, 64)                50240     \n",
      "_________________________________________________________________\n",
      "dense_1 (Dense)              (None, 128)               8320      \n",
      "_________________________________________________________________\n",
      "dense_2 (Dense)              (None, 128)               16512     \n",
      "_________________________________________________________________\n",
      "dense_3 (Dense)              (None, 10)                1290      \n",
      "=================================================================\n",
      "Total params: 76,362\n",
      "Trainable params: 76,362\n",
      "Non-trainable params: 0\n",
      "_________________________________________________________________\n",
      "Num GPUs Available:  1\n",
      "Epoch 1/5\n",
      "1688/1688 [==============================] - 3s 2ms/step - loss: 0.2977 - accuracy: 0.9078 - val_loss: 0.1171 - val_accuracy: 0.9625\n",
      "Epoch 2/5\n",
      "1688/1688 [==============================] - 3s 2ms/step - loss: 0.1271 - accuracy: 0.9608 - val_loss: 0.0948 - val_accuracy: 0.9705\n",
      "Epoch 3/5\n",
      "1688/1688 [==============================] - 3s 2ms/step - loss: 0.0911 - accuracy: 0.9711 - val_loss: 0.1112 - val_accuracy: 0.9705\n",
      "Epoch 4/5\n",
      "1688/1688 [==============================] - 3s 2ms/step - loss: 0.0730 - accuracy: 0.9770 - val_loss: 0.0872 - val_accuracy: 0.9743\n",
      "Epoch 5/5\n",
      "1688/1688 [==============================] - 3s 2ms/step - loss: 0.0598 - accuracy: 0.9807 - val_loss: 0.0997 - val_accuracy: 0.9727\n"
     ]
    },
    {
     "data": {
      "text/plain": [
       "<tensorflow.python.keras.callbacks.History at 0x2101682b040>"
      ]
     },
     "execution_count": 1,
     "metadata": {},
     "output_type": "execute_result"
    }
   ],
   "source": [
    "import numpy as np\n",
    "import tensorflow as tf\n",
    "\n",
    "# load MNIST Digit data\n",
    "data = tf.keras.datasets.mnist\n",
    "\n",
    "# here data is split into 70,30 by default\n",
    "(X_train, Y_train), (X_test, Y_test) = data.load_data()\n",
    "\n",
    "# normalizing data\n",
    "X_train = tf.keras.utils.normalize(X_train)\n",
    "X_test = tf.keras.utils.normalize(X_test)\n",
    "\n",
    "# checking shape of data\n",
    "print(X_train.shape)\n",
    "print(X_test.shape)\n",
    "\n",
    "# function to create and compile model\n",
    "def createModel(input_shape, num_classes, optimizer, loss, metrics):\n",
    "\n",
    "    model = tf.keras.models.Sequential()  ##a feed forward model , created stack of layer on top of it\n",
    "    model.add(tf.keras.layers.Input(shape=input_shape))\n",
    "    model.add(tf.keras.layers.Flatten())\n",
    "    model.add(tf.keras.layers.Dense(64, activation='relu'))\n",
    "    model.add(tf.keras.layers.Dense(128, activation='relu'))\n",
    "    model.add(tf.keras.layers.Dense(128, activation='relu'))\n",
    "    model.add(tf.keras.layers.Dense(num_classes, activation='softmax'))\n",
    "\n",
    "    model.compile(optimizer=optimizer, loss=loss, metrics=[metrics])\n",
    "\n",
    "    return model\n",
    "\n",
    "# model\n",
    "model = createModel(input_shape=(28, 28), num_classes=10, optimizer='adam',\n",
    "                    loss='sparse_categorical_crossentropy',\n",
    "                    metrics='accuracy')\n",
    "\n",
    "model.summary()\n",
    "\n",
    "print(\"Num GPUs Available: \", len(tf.config.experimental.list_physical_devices('GPU'))) #print no of GPU device\n",
    "\n",
    "model.fit(X_train, Y_train, epochs=5, validation_split=0.1)"
   ]
  },
  {
   "cell_type": "code",
   "execution_count": null,
   "id": "bc08230e",
   "metadata": {},
   "outputs": [],
   "source": []
  }
 ],
 "metadata": {
  "kernelspec": {
   "display_name": "Python 3 (ipykernel)",
   "language": "python",
   "name": "python3"
  },
  "language_info": {
   "codemirror_mode": {
    "name": "ipython",
    "version": 3
   },
   "file_extension": ".py",
   "mimetype": "text/x-python",
   "name": "python",
   "nbconvert_exporter": "python",
   "pygments_lexer": "ipython3",
   "version": "3.8.13"
  },
  "varInspector": {
   "cols": {
    "lenName": 16,
    "lenType": 16,
    "lenVar": 40
   },
   "kernels_config": {
    "python": {
     "delete_cmd_postfix": "",
     "delete_cmd_prefix": "del ",
     "library": "var_list.py",
     "varRefreshCmd": "print(var_dic_list())"
    },
    "r": {
     "delete_cmd_postfix": ") ",
     "delete_cmd_prefix": "rm(",
     "library": "var_list.r",
     "varRefreshCmd": "cat(var_dic_list()) "
    }
   },
   "types_to_exclude": [
    "module",
    "function",
    "builtin_function_or_method",
    "instance",
    "_Feature"
   ],
   "window_display": false
  }
 },
 "nbformat": 4,
 "nbformat_minor": 5
}
